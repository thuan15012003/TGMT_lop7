{
 "cells": [
  {
   "cell_type": "code",
   "execution_count": 2,
   "id": "e2804c89-626c-4179-9cd8-be2395572abd",
   "metadata": {},
   "outputs": [],
   "source": [
    "import numpy as np"
   ]
  },
  {
   "cell_type": "code",
   "execution_count": 4,
   "id": "feffb259-0804-41c7-9819-9bf799b085f0",
   "metadata": {},
   "outputs": [
    {
     "name": "stdout",
     "output_type": "stream",
     "text": [
      "[1 2 3]\n",
      "2\n"
     ]
    }
   ],
   "source": [
    "a = np.array([1,2,3])\n",
    "print(a)\n",
    "element = a[1]\n",
    "print(element)"
   ]
  },
  {
   "cell_type": "code",
   "execution_count": 6,
   "id": "964257e2-a06f-444f-8cfc-1d609fbb5df1",
   "metadata": {},
   "outputs": [
    {
     "name": "stdout",
     "output_type": "stream",
     "text": [
      "Matrix:\n",
      "[[1 2 3]\n",
      " [4 5 6]\n",
      " [7 8 9]]\n",
      "6\n"
     ]
    }
   ],
   "source": [
    "matrix = np.array([[1,2,3],[4,5,6],[7,8,9]])\n",
    "print(\"Matrix:\")\n",
    "print(matrix)\n",
    "element = matrix[1,2]\n",
    "print(element)"
   ]
  },
  {
   "cell_type": "code",
   "execution_count": 8,
   "id": "ea0b10ad-9247-4610-bbb0-6ef2603030af",
   "metadata": {},
   "outputs": [
    {
     "name": "stdout",
     "output_type": "stream",
     "text": [
      "[0. 0. 0. 0. 0.]\n",
      "[1. 1. 1. 1. 1.]\n",
      "[1. 1. 1. 1. 1.]\n",
      "[ 0  1  2  3  4  5  6  7  8  9 10 11 12 13 14 15 16 17 18 19 20 21 22 23\n",
      " 24 25 26 27 28 29 30 31 32 33 34 35 36 37 38 39 40 41 42 43 44 45 46 47\n",
      " 48 49 50 51 52 53 54 55 56 57 58 59 60 61 62 63 64 65 66 67 68 69 70 71\n",
      " 72 73 74 75 76 77 78 79 80 81 82 83 84 85 86 87 88 89 90 91 92 93 94 95\n",
      " 96 97 98 99]\n",
      "[ 0.   2.5  5.   7.5 10. ]\n"
     ]
    },
    {
     "data": {
      "text/plain": [
       "array([1, 1, 1, 1, 1], dtype=int64)"
      ]
     },
     "execution_count": 8,
     "metadata": {},
     "output_type": "execute_result"
    }
   ],
   "source": [
    "a = np.zeros(5)\n",
    "print(a)\n",
    "a = np.ones(5)\n",
    "print(a)\n",
    "a = np.empty(5)\n",
    "print(a)\n",
    "a = np.arange(100)\n",
    "print(a)\n",
    "a = np.linspace(0, 10, num=5)\n",
    "print(a)\n",
    "a = np.ones(5, dtype=np.int64)\n",
    "a"
   ]
  },
  {
   "cell_type": "code",
   "execution_count": 10,
   "id": "2b61b81b-680f-46e1-88c0-70671a174895",
   "metadata": {},
   "outputs": [
    {
     "name": "stdout",
     "output_type": "stream",
     "text": [
      "[3 1 2 4 5]\n",
      "[1 2 3 4 5]\n",
      "[5 4 3 2 1]\n",
      "[  5   4   3   2   1 100]\n",
      "[  5   4   3   1 100]\n"
     ]
    }
   ],
   "source": [
    "arr = np.array([ 3, 1, 2, 4, 5])\n",
    "print(arr)\n",
    "arr = np.sort(arr)\n",
    "print(arr)\n",
    "arr = np.sort(arr)[::-1]\n",
    "print(arr)\n",
    "arr = np.append(arr,100)\n",
    "print(arr)\n",
    "arr = np.delete(arr, 3)\n",
    "print(arr)"
   ]
  },
  {
   "cell_type": "code",
   "execution_count": 12,
   "id": "de352686-62ad-43a6-bbc6-d90ca40cfdc2",
   "metadata": {},
   "outputs": [
    {
     "name": "stdout",
     "output_type": "stream",
     "text": [
      "[[1 2 3]\n",
      " [4 6 8]\n",
      " [5 7 9]]\n",
      "[[3 1 2]\n",
      " [4 6 5]\n",
      " [9 7 8]]\n"
     ]
    }
   ],
   "source": [
    "arr = np.array([[3, 1, 2],\n",
    "                [4, 6, 8],\n",
    "                [9, 7, 5]])\n",
    "sap_xep_theo_hang = np.sort(arr, axis=1)\n",
    "print(sap_xep_theo_hang)\n",
    "sap_xep_theo_cot = np.sort(arr, axis=0)\n",
    "print(sap_xep_theo_cot)\n"
   ]
  },
  {
   "cell_type": "code",
   "execution_count": 14,
   "id": "1e6b3b60-613c-4480-999f-9ad1dea36954",
   "metadata": {},
   "outputs": [
    {
     "name": "stdout",
     "output_type": "stream",
     "text": [
      "so chieu: 2\n",
      "kich thuoc: 6\n",
      "hinh dang: (2, 3)\n"
     ]
    }
   ],
   "source": [
    "arr = np.array([[1, 2, 3], [4, 5, 6]])\n",
    "so_chieu = arr.ndim\n",
    "kich_thuoc = arr.size\n",
    "hinh_dang = arr.shape\n",
    "print(\"so chieu:\",so_chieu)\n",
    "print(\"kich thuoc:\", kich_thuoc)\n",
    "print(\"hinh dang:\", hinh_dang)"
   ]
  },
  {
   "cell_type": "code",
   "execution_count": 16,
   "id": "cc6b9d25-f2cb-4250-9379-450a2a849c5e",
   "metadata": {},
   "outputs": [
    {
     "name": "stdout",
     "output_type": "stream",
     "text": [
      "[1. 2. 3. 4. 5.]\n"
     ]
    }
   ],
   "source": [
    "arr = np.array([1, 2, 3, 4, 5])\n",
    "arr_float = arr.astype(float)\n",
    "print(arr_float)"
   ]
  },
  {
   "cell_type": "code",
   "execution_count": 18,
   "id": "a14832a8-57cf-43b9-8af6-913d7799e4cb",
   "metadata": {},
   "outputs": [
    {
     "name": "stdout",
     "output_type": "stream",
     "text": [
      "[[1 2 3]\n",
      " [4 5 6]]\n",
      "[[1 2]\n",
      " [3 4]\n",
      " [5 6]]\n"
     ]
    }
   ],
   "source": [
    "arr = np.array([1, 2, 3, 4, 5, 6])\n",
    "reshaped_arr = arr.reshape(2,3)\n",
    "print(reshaped_arr)\n",
    "reshaped_arr = arr.reshape(3,2)\n",
    "print(reshaped_arr)"
   ]
  },
  {
   "cell_type": "code",
   "execution_count": 20,
   "id": "274557f1-7548-468d-9c6f-7f40ec66a699",
   "metadata": {},
   "outputs": [
    {
     "name": "stdout",
     "output_type": "stream",
     "text": [
      "[1 2 3 4 5 6]\n"
     ]
    }
   ],
   "source": [
    "reshaped_arr = reshaped_arr.flatten()\n",
    "print(reshaped_arr)"
   ]
  },
  {
   "cell_type": "code",
   "execution_count": 22,
   "id": "fa0ae245-35a5-4869-bf0e-06e4b43af7df",
   "metadata": {},
   "outputs": [
    {
     "name": "stdout",
     "output_type": "stream",
     "text": [
      "[2 3 4]\n",
      "[1 2 3 4]\n",
      "[4 5]\n"
     ]
    }
   ],
   "source": [
    "arr = np.array([1, 2, 3, 4, 5])\n",
    "sub_arr = arr[1:4]\n",
    "print(sub_arr)\n",
    "sub_arr = arr[:-1]\n",
    "print(sub_arr)\n",
    "sub_arr = arr[-2:]\n",
    "print(sub_arr)\n",
    "\n"
   ]
  },
  {
   "cell_type": "code",
   "execution_count": 24,
   "id": "bd5b9a5e-219f-4ffd-aef8-73c982a81dc9",
   "metadata": {},
   "outputs": [
    {
     "name": "stdout",
     "output_type": "stream",
     "text": [
      "[[1 2 3]\n",
      " [4 5 6]]\n",
      "[[1 4]\n",
      " [2 5]\n",
      " [3 6]]\n"
     ]
    }
   ],
   "source": [
    "arr = np.array([[1, 2, 3], [4, 5, 6]])\n",
    "print(arr)\n",
    "transposed_arr = arr.T\n",
    "print(transposed_arr)"
   ]
  },
  {
   "cell_type": "code",
   "execution_count": 30,
   "id": "976a84a1-b18b-483e-8e53-7d8aaa6004e3",
   "metadata": {},
   "outputs": [
    {
     "name": "stdout",
     "output_type": "stream",
     "text": [
      "[1 2 3 4 6 6]\n"
     ]
    }
   ],
   "source": [
    "arr1 = np.array([1, 2, 3])\n",
    "arr2 = np.array([4, 6, 6])\n",
    "arr = np.concatenate((arr1, arr2))\n",
    "print(arr)"
   ]
  },
  {
   "cell_type": "code",
   "execution_count": 32,
   "id": "ec3891b3-9142-43f2-afca-06a0ac9f3bf7",
   "metadata": {},
   "outputs": [
    {
     "name": "stdout",
     "output_type": "stream",
     "text": [
      "[1 2 3 4 6 6]\n"
     ]
    }
   ],
   "source": [
    "arr1 = np.array([1, 2, 3])\n",
    "arr2 = np.array([4, 6, 6])\n",
    "arr = np.concatenate((arr1, arr2))\n",
    "print(arr)"
   ]
  },
  {
   "cell_type": "code",
   "execution_count": 41,
   "id": "8abe3474-f7ab-44f1-b1a0-aafd4d2962d3",
   "metadata": {},
   "outputs": [
    {
     "name": "stdout",
     "output_type": "stream",
     "text": [
      "tong cua mang: 15\n",
      "Average value of array arr: 3.0\n",
      "Maximum value in arr array: 5\n",
      "Minimum value in arr array: 1\n",
      "Standard deviation of arr membrane: 1.4142135623730951\n",
      "Variance of array arr: 2.0\n",
      "Convolution sum of arr1 and arr2: 32\n"
     ]
    }
   ],
   "source": [
    "arr = np.array ([1, 2, 3, 4, 5])\n",
    "total = np.sum(arr)\n",
    "print(\"tong cua mang:\", total)\n",
    "average = np.mean(arr)\n",
    "print(\"Average value of array arr:\", average)\n",
    "max_value = np.max(arr)\n",
    "min_value = np.min(arr)\n",
    "print(\"Maximum value in arr array:\", max_value)\n",
    "print(\"Minimum value in arr array:\", min_value)\n",
    "std_deviation = np.std(arr)\n",
    "print(\"Standard deviation of arr membrane:\", std_deviation)\n",
    "variance = np.var(arr)\n",
    "print(\"Variance of array arr:\", variance)\n",
    "arr1 = np.array ([1, 2, 3])\n",
    "arr2 = np.array([4, 5, 6])\n",
    "dot_product = np.dot (arr1, arr2)\n",
    "print(\"Convolution sum of arr1 and arr2:\", dot_product)"
   ]
  },
  {
   "cell_type": "code",
   "execution_count": null,
   "id": "c0b4761f-9ef7-4f0e-b737-660b1a663bf9",
   "metadata": {},
   "outputs": [],
   "source": []
  }
 ],
 "metadata": {
  "kernelspec": {
   "display_name": "Python 3 (ipykernel)",
   "language": "python",
   "name": "python3"
  },
  "language_info": {
   "codemirror_mode": {
    "name": "ipython",
    "version": 3
   },
   "file_extension": ".py",
   "mimetype": "text/x-python",
   "name": "python",
   "nbconvert_exporter": "python",
   "pygments_lexer": "ipython3",
   "version": "3.12.4"
  }
 },
 "nbformat": 4,
 "nbformat_minor": 5
}
