{
 "cells": [
  {
   "cell_type": "code",
   "execution_count": null,
   "id": "2e452ed1-b2e7-4058-9443-56b3ca219e94",
   "metadata": {},
   "outputs": [],
   "source": [
    "from PIL import Image\n",
    "import numpy as np\n",
    "import matplotlib.pyplot as plt\n",
    "from scipy import ndimage\n",
    "\n",
    "# Đọc ảnh\n",
    "image_path = 'C:/Users/Administrator/Documents/anh/anh01.jpg'\n",
    "image = Image.open(image_path)\n",
    "\n",
    "# Ảnh xám\n",
    "gray_image = image.convert('L')\n",
    "\n",
    "# Chuyển ảnh xám về mảng\n",
    "image_a = np.array(gray_image)\n",
    "\n",
    "# Làm mờ ảnh xám với bộ lọc Gaussian\n",
    "blurred_image_a = ndimage.gaussian_filter(image_a, sigma=1, mode=\"constant\")\n",
    "blurred_image_b = ndimage.gaussian_filter(image_a, sigma=3, mode=\"constant\")\n",
    "blurred_image_c = ndimage.gaussian_filter(image_a, sigma=5, mode=\"constant\")\n",
    "\n",
    "# Hiển thị ảnh\n",
    "fig, axs = plt.subplots(2,2, figsize=(10, 8))\n",
    "\n",
    "plt.subplot(2,2,1)\n",
    "plt.imshow(gray_image, cmap='gray')\n",
    "plt.title('Ảnh xám gốc')\n",
    "\n",
    "plt.subplot(2,2,2)\n",
    "plt.imshow(blurred_image_a, cmap='gray')\n",
    "plt.title('sigma=1')\n",
    "\n",
    "plt.subplot(2,2,3)\n",
    "plt.imshow(blurred_image_b, cmap='gray')\n",
    "plt.title('sigma=3')\n",
    "\n",
    "plt.subplot(2,2,4)\n",
    "plt.imshow(blurred_image_c, cmap='gray')\n",
    "plt.title('sigma=5')"
   ]
  }
 ],
 "metadata": {
  "kernelspec": {
   "display_name": "Python 3 (ipykernel)",
   "language": "python",
   "name": "python3"
  },
  "language_info": {
   "codemirror_mode": {
    "name": "ipython",
    "version": 3
   },
   "file_extension": ".py",
   "mimetype": "text/x-python",
   "name": "python",
   "nbconvert_exporter": "python",
   "pygments_lexer": "ipython3",
   "version": "3.12.4"
  }
 },
 "nbformat": 4,
 "nbformat_minor": 5
}
