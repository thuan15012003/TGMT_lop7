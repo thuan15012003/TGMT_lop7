{
 "cells": [
  {
   "cell_type": "code",
   "execution_count": 17,
   "id": "4f913153-4603-4d3b-8454-ce1e1954f959",
   "metadata": {},
   "outputs": [],
   "source": [
    "\n",
    "import cv2"
   ]
  },
  {
   "cell_type": "code",
   "execution_count": 19,
   "id": "99d11c36-7b88-4850-90fc-5380bc352294",
   "metadata": {},
   "outputs": [],
   "source": [
    "\n",
    "my_video = cv2.VideoCapture('C:/Users/Administrator/Documents/TGMT_lop7-master/data/video/01.mp4')"
   ]
  },
  {
   "cell_type": "code",
   "execution_count": 21,
   "id": "86b59854-41ea-4ba3-a1e0-8784841e101e",
   "metadata": {},
   "outputs": [],
   "source": [
    "cv2.namedWindow('Video Player', cv2.WINDOW_NORMAL)"
   ]
  },
  {
   "cell_type": "code",
   "execution_count": 23,
   "id": "bf9ce45c-8b83-43df-b92b-9399ceafbef5",
   "metadata": {},
   "outputs": [],
   "source": [
    "# Hiển thị từng khung ảnh\n",
    "while True:\n",
    "    # Đọc 1 frame\n",
    "    ret, frame = my_video.read()\n",
    "    \n",
    "    # Thoát khi không thể đọc được frame\n",
    "    if not ret:\n",
    "        break\n",
    "    \n",
    "    # Hiển thị\n",
    "    cv2.imshow('Video Player', frame)\n",
    "    \n",
    "    if(cv2.waitKey(10)==ord('q')):\n",
    "        break"
   ]
  },
  {
   "cell_type": "code",
   "execution_count": 24,
   "id": "bbf1400c-f81a-4de0-ac60-4122ec77ed10",
   "metadata": {},
   "outputs": [],
   "source": [
    "# Hủy bỏ player\n",
    "my_video.release\n",
    "cv2.destroyAllWindows()"
   ]
  },
  {
   "cell_type": "code",
   "execution_count": null,
   "id": "7b1dc0d4-0558-4290-b86c-ac55be7011b4",
   "metadata": {},
   "outputs": [],
   "source": []
  }
 ],
 "metadata": {
  "kernelspec": {
   "display_name": "Python 3 (ipykernel)",
   "language": "python",
   "name": "python3"
  },
  "language_info": {
   "codemirror_mode": {
    "name": "ipython",
    "version": 3
   },
   "file_extension": ".py",
   "mimetype": "text/x-python",
   "name": "python",
   "nbconvert_exporter": "python",
   "pygments_lexer": "ipython3",
   "version": "3.12.4"
  }
 },
 "nbformat": 4,
 "nbformat_minor": 5
}
